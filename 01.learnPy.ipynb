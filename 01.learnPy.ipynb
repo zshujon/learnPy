{
 "metadata": {
  "name": ""
 },
 "nbformat": 3,
 "nbformat_minor": 0,
 "worksheets": [
  {
   "cells": [
    {
     "cell_type": "heading",
     "level": 1,
     "metadata": {},
     "source": [
      "Learning Python (Part 01)"
     ]
    },
    {
     "cell_type": "markdown",
     "metadata": {},
     "source": [
      "Python\n",
      "\n",
      "Python is widely used general purpose remarkably powerful dynamic object oriented language."
     ]
    },
    {
     "cell_type": "markdown",
     "metadata": {},
     "source": [
      "Why Python?\n",
      "\n",
      "It is pretty good idea to start learn programming with Python because of its learning curve much more sipper then others.\n",
      "The knowledge someone can earn with Python which can be readily transferable to learn any other language."
     ]
    },
    {
     "cell_type": "markdown",
     "metadata": {},
     "source": [
      "Setting Up Python\n",
      "\n",
      "To start you have to download and install Python on our machine. Visit http://python.org/download/ to download a \n",
      "version of Python which is compatible with your machine."
     ]
    },
    {
     "cell_type": "markdown",
     "metadata": {},
     "source": [
      "Variables\n",
      "\n",
      "Variable is the most basic and fundamental element in any programming language. To store data variables are used. In Python almost anything can be used to define a name of a variable although there is some restriction. These are:\n",
      "\n",
      "    Name of the variables should be start with a lower or upper case letter as well as a underscore (_)\n",
      "    \n",
      "    Name of the variables should not contain any of these character (!, @, #, $, %, ^, &, (, ), {, }, [, ], <, >, +, -, *, /,\n",
      "    \\, |, :, ?, ., even comma (,) itself).\n",
      "    \n",
      "    Python uses some keyword which will not be allowed to use as a variable name. These keywords are given : and, as, assert,\n",
      "    break, class, continue, def, del, elif, else, except, exec, finally, for, from, global, if, import, in, is, lambda, not,\n",
      "    or, pass, print, raise, return, try, while, with, yield.\n",
      "    \n",
      "    Though variables name could be anything but you have to follow some convention because your code should be readable to\n",
      "    others not only yourself.\n",
      "\n",
      "\n",
      "Some valid variables name given bellow:\n",
      "number, count, house, car, tree, etc.\n",
      "\n",
      "Some invalid variables name given bellow:\n",
      "num-ber, gl@ss, $dollar, 7pound etc\n",
      "\n",
      "Though\n",
      "Number, Chair are valid variable name but it is good to follow the convention that variable name start with lowercase letter."
     ]
    },
    {
     "cell_type": "markdown",
     "metadata": {},
     "source": [
      "Data Types\n",
      "\n",
      "In programming we deal with data. We do various kind of operation on various kind of data. Python provides Object Oriented Programming (OOP) paradigm. In OOP you can create your own data type using the default or built in data type that provided by the language. Python provides various kinds of data type."
     ]
    },
    {
     "cell_type": "markdown",
     "metadata": {},
     "source": [
      "Numbers (Integer, Float and Complex)\n",
      "\n",
      "There are three number like of data types provided by Python usualy as integer, float and complex.\n",
      "\n",
      "Integer numbers are 1, 34, 765 etc.\n",
      "\n",
      "Float numbers are 2.0, 45.876 etc (or Real numbers)\n",
      "\n",
      "Complex numbers are (1 + 1i), 2i etc but python use j insted of i.\n",
      "that is the complex would be (1 + 1j), 2j"
     ]
    },
    {
     "cell_type": "markdown",
     "metadata": {},
     "source": [
      "Note that 1 and 1.0 not same. Though value of them same to us but not same for computer.\n",
      "Open the Python Interpreter write type(1) and hit Enter. You will see the type of data 1 is integer."
     ]
    },
    {
     "cell_type": "code",
     "collapsed": false,
     "input": [
      "type(1)"
     ],
     "language": "python",
     "metadata": {},
     "outputs": [
      {
       "metadata": {},
       "output_type": "pyout",
       "prompt_number": 28,
       "text": [
        "int"
       ]
      }
     ],
     "prompt_number": 28
    },
    {
     "cell_type": "markdown",
     "metadata": {},
     "source": [
      "Write type(1 + 1j) hit enter."
     ]
    },
    {
     "cell_type": "code",
     "collapsed": false,
     "input": [
      "type(1 + 1j)"
     ],
     "language": "python",
     "metadata": {},
     "outputs": [
      {
       "metadata": {},
       "output_type": "pyout",
       "prompt_number": 29,
       "text": [
        "complex"
       ]
      }
     ],
     "prompt_number": 29
    },
    {
     "cell_type": "markdown",
     "metadata": {},
     "source": [
      "Now write type(1.0) and press enter. You will see the type of data 1.0 is float."
     ]
    },
    {
     "cell_type": "code",
     "collapsed": false,
     "input": [
      "type(1.0)"
     ],
     "language": "python",
     "metadata": {},
     "outputs": [
      {
       "metadata": {},
       "output_type": "pyout",
       "prompt_number": 30,
       "text": [
        "float"
       ]
      }
     ],
     "prompt_number": 30
    },
    {
     "cell_type": "markdown",
     "metadata": {},
     "source": [
      "So, now you know that 1 and 1.0 are not the same.\n",
      "You can use the interpreter as a basic calculator. That is you can add or subtract or multiply or divide one number with other or you can find the modulus of two number as well as you can do the one number to the power of other.\n",
      "\n",
      "In the interpreter write 1 + 1, 2 - 1, 2 * 2, 2 / 2, 2 ** 2."
     ]
    },
    {
     "cell_type": "code",
     "collapsed": false,
     "input": [
      "1 + 1                       # + works for addition "
     ],
     "language": "python",
     "metadata": {},
     "outputs": [
      {
       "metadata": {},
       "output_type": "pyout",
       "prompt_number": 31,
       "text": [
        "2"
       ]
      }
     ],
     "prompt_number": 31
    },
    {
     "cell_type": "code",
     "collapsed": false,
     "input": [
      "2 - 1                       # - works for subtraction"
     ],
     "language": "python",
     "metadata": {},
     "outputs": [
      {
       "metadata": {},
       "output_type": "pyout",
       "prompt_number": 32,
       "text": [
        "1"
       ]
      }
     ],
     "prompt_number": 32
    },
    {
     "cell_type": "code",
     "collapsed": false,
     "input": [
      "2 * 2                       # * works for multiplication"
     ],
     "language": "python",
     "metadata": {},
     "outputs": [
      {
       "metadata": {},
       "output_type": "pyout",
       "prompt_number": 33,
       "text": [
        "4"
       ]
      }
     ],
     "prompt_number": 33
    },
    {
     "cell_type": "code",
     "collapsed": false,
     "input": [
      "2 / 2                       # / works for division"
     ],
     "language": "python",
     "metadata": {},
     "outputs": [
      {
       "metadata": {},
       "output_type": "pyout",
       "prompt_number": 34,
       "text": [
        "1"
       ]
      }
     ],
     "prompt_number": 34
    },
    {
     "cell_type": "code",
     "collapsed": false,
     "input": [
      "3 % 2                      # % works for find the modulus"
     ],
     "language": "python",
     "metadata": {},
     "outputs": [
      {
       "metadata": {},
       "output_type": "pyout",
       "prompt_number": 35,
       "text": [
        "1"
       ]
      }
     ],
     "prompt_number": 35
    },
    {
     "cell_type": "code",
     "collapsed": false,
     "input": [
      "2 ** 2                     # The two * sign works as exponent."
     ],
     "language": "python",
     "metadata": {},
     "outputs": [
      {
       "metadata": {},
       "output_type": "pyout",
       "prompt_number": 36,
       "text": [
        "4"
       ]
      }
     ],
     "prompt_number": 36
    },
    {
     "cell_type": "markdown",
     "metadata": {},
     "source": [
      "+, -, *, /, % these  all are arithmetic operator.\n",
      "\n",
      "The order of precedence will be:\n",
      "\n",
      "    Highest precedence\n",
      "    ( )                                               #    anything in brackets is done first\n",
      "    **                                                #    exponentiation\n",
      "    -x, +x                                            #    increment or decrement\n",
      "    *, /, %, //\n",
      "    +, -\n",
      "    relational operators: <, >, <=, >=, !=, ==\n",
      "    logical not\n",
      "    logical and\n",
      "    logical or\n",
      "    Lowest precedence\n",
      "\n",
      "We will talk about all of the operator in letter section when it comes.\n",
      "\n",
      "The sharp (#) sign used for single line comment. Comments are very useful in programming. It helps us to express about the code in our language. When Python interpreter does not execute any of the syntax or code after the # sign.\n",
      "\n",
      "Now write something like 3 / 2 hit Enter and 2 / 2 hit Enter look what happens."
     ]
    },
    {
     "cell_type": "code",
     "collapsed": false,
     "input": [
      "3 / 2"
     ],
     "language": "python",
     "metadata": {},
     "outputs": [
      {
       "metadata": {},
       "output_type": "pyout",
       "prompt_number": 37,
       "text": [
        "1"
       ]
      }
     ],
     "prompt_number": 37
    },
    {
     "cell_type": "code",
     "collapsed": false,
     "input": [
      "2 / 2"
     ],
     "language": "python",
     "metadata": {},
     "outputs": [
      {
       "metadata": {},
       "output_type": "pyout",
       "prompt_number": 38,
       "text": [
        "1"
       ]
      }
     ],
     "prompt_number": 38
    },
    {
     "cell_type": "markdown",
     "metadata": {},
     "source": [
      "Whats the hack is going on?\n",
      "\n",
      "Its not your neither interpreters fault. The Python 2 designed in this fashion.\n",
      "\n",
      "Whats the inside about these two division?\n",
      "When we divide 3 by 2 we expect the result would be 1.5. But Python 2 shows it is 1. Because Python see both of the numbers are  integer so it back the result as an integer. We know 1.5 is a float so interpreter give us the only integer part of the float value and the integer of 1.5 is 1.\n",
      "\n",
      "In the interpreter write, int(1.5) it will back 1."
     ]
    },
    {
     "cell_type": "code",
     "collapsed": false,
     "input": [
      "int(1.5)                    # this is known as type casting"
     ],
     "language": "python",
     "metadata": {},
     "outputs": [
      {
       "metadata": {},
       "output_type": "pyout",
       "prompt_number": 39,
       "text": [
        "1"
       ]
      }
     ],
     "prompt_number": 39
    },
    {
     "cell_type": "markdown",
     "metadata": {},
     "source": [
      "How can we fix it?\n",
      "To fix this you have to make any of the number float. That is, 3. / 2, 3 / 2."
     ]
    },
    {
     "cell_type": "code",
     "collapsed": false,
     "input": [
      "3./2"
     ],
     "language": "python",
     "metadata": {},
     "outputs": [
      {
       "metadata": {},
       "output_type": "pyout",
       "prompt_number": 40,
       "text": [
        "1.5"
       ]
      }
     ],
     "prompt_number": 40
    },
    {
     "cell_type": "code",
     "collapsed": false,
     "input": [
      "3/2."
     ],
     "language": "python",
     "metadata": {},
     "outputs": [
      {
       "metadata": {},
       "output_type": "pyout",
       "prompt_number": 41,
       "text": [
        "1.5"
       ]
      }
     ],
     "prompt_number": 41
    },
    {
     "cell_type": "markdown",
     "metadata": {},
     "source": [
      "or"
     ]
    },
    {
     "cell_type": "code",
     "collapsed": false,
     "input": [
      "3 / float(2)             # the type casting way"
     ],
     "language": "python",
     "metadata": {},
     "outputs": [
      {
       "metadata": {},
       "output_type": "pyout",
       "prompt_number": 42,
       "text": [
        "1.5"
       ]
      }
     ],
     "prompt_number": 42
    },
    {
     "cell_type": "code",
     "collapsed": false,
     "input": [
      "float(3)/2"
     ],
     "language": "python",
     "metadata": {},
     "outputs": [
      {
       "metadata": {},
       "output_type": "pyout",
       "prompt_number": 43,
       "text": [
        "1.5"
       ]
      }
     ],
     "prompt_number": 43
    },
    {
     "cell_type": "markdown",
     "metadata": {},
     "source": [
      "So it looks OK now.\n",
      "\n",
      "You can store number in variable and your operation could be done over the variable. Such as write number_1 = 1, number_2 = 2 and number_1 + number_2"
     ]
    },
    {
     "cell_type": "code",
     "collapsed": false,
     "input": [
      "number_1 = 1\n",
      "number_2 = 2\n",
      "number_1 + number_2"
     ],
     "language": "python",
     "metadata": {},
     "outputs": [
      {
       "metadata": {},
       "output_type": "pyout",
       "prompt_number": 44,
       "text": [
        "3"
       ]
      }
     ],
     "prompt_number": 44
    },
    {
     "cell_type": "markdown",
     "metadata": {},
     "source": [
      "You can store the result in the another variable. Write number_3 = number_1 + number_2 and press Enter."
     ]
    },
    {
     "cell_type": "code",
     "collapsed": false,
     "input": [
      "number_3 = number_1 + number_2"
     ],
     "language": "python",
     "metadata": {},
     "outputs": [],
     "prompt_number": 45
    },
    {
     "cell_type": "markdown",
     "metadata": {},
     "source": [
      "Nothing happens. Because now the result is in variable named number_3. If you want to see the result write the variable name and press Enter."
     ]
    },
    {
     "cell_type": "code",
     "collapsed": false,
     "input": [
      "number_3"
     ],
     "language": "python",
     "metadata": {},
     "outputs": [
      {
       "metadata": {},
       "output_type": "pyout",
       "prompt_number": 46,
       "text": [
        "3"
       ]
      }
     ],
     "prompt_number": 46
    },
    {
     "cell_type": "markdown",
     "metadata": {},
     "source": [
      "Look when we assign value in first two variable similar thing was happened. \n",
      "\n",
      "Write num_1 = 5 hit Enter, num_2 = 4 hit Enter, num_3 = num_1 * num_2 hit Enter, num_3 hit Enter"
     ]
    },
    {
     "cell_type": "code",
     "collapsed": false,
     "input": [
      "num_1 = 5\n",
      "num_2 = 4\n",
      "num_3 = num_1 * num_2\n",
      "num_3"
     ],
     "language": "python",
     "metadata": {},
     "outputs": [
      {
       "metadata": {},
       "output_type": "pyout",
       "prompt_number": 47,
       "text": [
        "20"
       ]
      }
     ],
     "prompt_number": 47
    },
    {
     "cell_type": "markdown",
     "metadata": {},
     "source": [
      "Again write num_1 = 10 hit Enter, num_3 = num_1 * num_2 hit Enter, num_3 hit Enter"
     ]
    },
    {
     "cell_type": "code",
     "collapsed": false,
     "input": [
      "num_1 = 10\n",
      "num_3 = num_1 * num_2\n",
      "num_3"
     ],
     "language": "python",
     "metadata": {},
     "outputs": [
      {
       "metadata": {},
       "output_type": "pyout",
       "prompt_number": 48,
       "text": [
        "40"
       ]
      }
     ],
     "prompt_number": 48
    },
    {
     "cell_type": "markdown",
     "metadata": {},
     "source": [
      "Again write num_1 hit Enter and num_2 hit Enter"
     ]
    },
    {
     "cell_type": "code",
     "collapsed": false,
     "input": [
      "num_1"
     ],
     "language": "python",
     "metadata": {},
     "outputs": [
      {
       "metadata": {},
       "output_type": "pyout",
       "prompt_number": 49,
       "text": [
        "10"
       ]
      }
     ],
     "prompt_number": 49
    },
    {
     "cell_type": "code",
     "collapsed": false,
     "input": [
      " num_2"
     ],
     "language": "python",
     "metadata": {},
     "outputs": [
      {
       "metadata": {},
       "output_type": "pyout",
       "prompt_number": 50,
       "text": [
        "4"
       ]
      }
     ],
     "prompt_number": 50
    },
    {
     "cell_type": "markdown",
     "metadata": {},
     "source": [
      "Variable num_1 shows us its value is 10 but num_2 is same as previous operation. That is if we change the value of variable it will erase the previous value and store the most recent value.\n",
      "\n",
      "We saw int. It is a built in module in Python. write dir(int)"
     ]
    },
    {
     "cell_type": "code",
     "collapsed": false,
     "input": [
      "dir(int)"
     ],
     "language": "python",
     "metadata": {},
     "outputs": [
      {
       "metadata": {},
       "output_type": "pyout",
       "prompt_number": 51,
       "text": [
        "['__abs__',\n",
        " '__add__',\n",
        " '__and__',\n",
        " '__class__',\n",
        " '__cmp__',\n",
        " '__coerce__',\n",
        " '__delattr__',\n",
        " '__div__',\n",
        " '__divmod__',\n",
        " '__doc__',\n",
        " '__float__',\n",
        " '__floordiv__',\n",
        " '__format__',\n",
        " '__getattribute__',\n",
        " '__getnewargs__',\n",
        " '__hash__',\n",
        " '__hex__',\n",
        " '__index__',\n",
        " '__init__',\n",
        " '__int__',\n",
        " '__invert__',\n",
        " '__long__',\n",
        " '__lshift__',\n",
        " '__mod__',\n",
        " '__mul__',\n",
        " '__neg__',\n",
        " '__new__',\n",
        " '__nonzero__',\n",
        " '__oct__',\n",
        " '__or__',\n",
        " '__pos__',\n",
        " '__pow__',\n",
        " '__radd__',\n",
        " '__rand__',\n",
        " '__rdiv__',\n",
        " '__rdivmod__',\n",
        " '__reduce__',\n",
        " '__reduce_ex__',\n",
        " '__repr__',\n",
        " '__rfloordiv__',\n",
        " '__rlshift__',\n",
        " '__rmod__',\n",
        " '__rmul__',\n",
        " '__ror__',\n",
        " '__rpow__',\n",
        " '__rrshift__',\n",
        " '__rshift__',\n",
        " '__rsub__',\n",
        " '__rtruediv__',\n",
        " '__rxor__',\n",
        " '__setattr__',\n",
        " '__sizeof__',\n",
        " '__str__',\n",
        " '__sub__',\n",
        " '__subclasshook__',\n",
        " '__truediv__',\n",
        " '__trunc__',\n",
        " '__xor__',\n",
        " 'bit_length',\n",
        " 'conjugate',\n",
        " 'denominator',\n",
        " 'imag',\n",
        " 'numerator',\n",
        " 'real']"
       ]
      }
     ],
     "prompt_number": 51
    },
    {
     "cell_type": "markdown",
     "metadata": {},
     "source": [
      "It gives us a list of definition under the module of int. Here dir() is a built in definition in Python which help us to see what is inside a module. We can use another helpful definition help() which tell us detail about the definition. Write help(int.real)"
     ]
    },
    {
     "cell_type": "code",
     "collapsed": false,
     "input": [
      "help(int.real)"
     ],
     "language": "python",
     "metadata": {},
     "outputs": [
      {
       "output_type": "stream",
       "stream": "stdout",
       "text": [
        "Help on getset descriptor __builtin__.int.real:\n",
        "\n",
        "real\n",
        "    the real part of a complex number\n",
        "\n"
       ]
      }
     ],
     "prompt_number": 52
    },
    {
     "cell_type": "markdown",
     "metadata": {},
     "source": [
      "It tells us that the real() definition inside the int will find us the real value of complex number. Write (1 + 1j).real"
     ]
    },
    {
     "cell_type": "code",
     "collapsed": false,
     "input": [
      "(1+1j).real"
     ],
     "language": "python",
     "metadata": {},
     "outputs": [
      {
       "metadata": {},
       "output_type": "pyout",
       "prompt_number": 53,
       "text": [
        "1.0"
       ]
      }
     ],
     "prompt_number": 53
    },
    {
     "cell_type": "markdown",
     "metadata": {},
     "source": [
      "You can also look for dir(float) or dir(complex)"
     ]
    },
    {
     "cell_type": "code",
     "collapsed": false,
     "input": [
      "dir(float)"
     ],
     "language": "python",
     "metadata": {},
     "outputs": [
      {
       "metadata": {},
       "output_type": "pyout",
       "prompt_number": 1,
       "text": [
        "['__abs__',\n",
        " '__add__',\n",
        " '__class__',\n",
        " '__coerce__',\n",
        " '__delattr__',\n",
        " '__div__',\n",
        " '__divmod__',\n",
        " '__doc__',\n",
        " '__eq__',\n",
        " '__float__',\n",
        " '__floordiv__',\n",
        " '__format__',\n",
        " '__ge__',\n",
        " '__getattribute__',\n",
        " '__getformat__',\n",
        " '__getnewargs__',\n",
        " '__gt__',\n",
        " '__hash__',\n",
        " '__init__',\n",
        " '__int__',\n",
        " '__le__',\n",
        " '__long__',\n",
        " '__lt__',\n",
        " '__mod__',\n",
        " '__mul__',\n",
        " '__ne__',\n",
        " '__neg__',\n",
        " '__new__',\n",
        " '__nonzero__',\n",
        " '__pos__',\n",
        " '__pow__',\n",
        " '__radd__',\n",
        " '__rdiv__',\n",
        " '__rdivmod__',\n",
        " '__reduce__',\n",
        " '__reduce_ex__',\n",
        " '__repr__',\n",
        " '__rfloordiv__',\n",
        " '__rmod__',\n",
        " '__rmul__',\n",
        " '__rpow__',\n",
        " '__rsub__',\n",
        " '__rtruediv__',\n",
        " '__setattr__',\n",
        " '__setformat__',\n",
        " '__sizeof__',\n",
        " '__str__',\n",
        " '__sub__',\n",
        " '__subclasshook__',\n",
        " '__truediv__',\n",
        " '__trunc__',\n",
        " 'as_integer_ratio',\n",
        " 'conjugate',\n",
        " 'fromhex',\n",
        " 'hex',\n",
        " 'imag',\n",
        " 'is_integer',\n",
        " 'real']"
       ]
      }
     ],
     "prompt_number": 1
    },
    {
     "cell_type": "code",
     "collapsed": false,
     "input": [
      "dir(complex)"
     ],
     "language": "python",
     "metadata": {},
     "outputs": [
      {
       "metadata": {},
       "output_type": "pyout",
       "prompt_number": 2,
       "text": [
        "['__abs__',\n",
        " '__add__',\n",
        " '__class__',\n",
        " '__coerce__',\n",
        " '__delattr__',\n",
        " '__div__',\n",
        " '__divmod__',\n",
        " '__doc__',\n",
        " '__eq__',\n",
        " '__float__',\n",
        " '__floordiv__',\n",
        " '__format__',\n",
        " '__ge__',\n",
        " '__getattribute__',\n",
        " '__getnewargs__',\n",
        " '__gt__',\n",
        " '__hash__',\n",
        " '__init__',\n",
        " '__int__',\n",
        " '__le__',\n",
        " '__long__',\n",
        " '__lt__',\n",
        " '__mod__',\n",
        " '__mul__',\n",
        " '__ne__',\n",
        " '__neg__',\n",
        " '__new__',\n",
        " '__nonzero__',\n",
        " '__pos__',\n",
        " '__pow__',\n",
        " '__radd__',\n",
        " '__rdiv__',\n",
        " '__rdivmod__',\n",
        " '__reduce__',\n",
        " '__reduce_ex__',\n",
        " '__repr__',\n",
        " '__rfloordiv__',\n",
        " '__rmod__',\n",
        " '__rmul__',\n",
        " '__rpow__',\n",
        " '__rsub__',\n",
        " '__rtruediv__',\n",
        " '__setattr__',\n",
        " '__sizeof__',\n",
        " '__str__',\n",
        " '__sub__',\n",
        " '__subclasshook__',\n",
        " '__truediv__',\n",
        " 'conjugate',\n",
        " 'imag',\n",
        " 'real']"
       ]
      }
     ],
     "prompt_number": 2
    },
    {
     "cell_type": "markdown",
     "metadata": {},
     "source": [
      "name start and end with underscore (_) ,this type of funny definitions has special meaning in Python often they known as magic function. \n",
      "\n",
      "We will talk more about module and definition (or function or procedure) in later section when it comes."
     ]
    },
    {
     "cell_type": "code",
     "collapsed": false,
     "input": [],
     "language": "python",
     "metadata": {},
     "outputs": []
    }
   ],
   "metadata": {}
  }
 ]
}